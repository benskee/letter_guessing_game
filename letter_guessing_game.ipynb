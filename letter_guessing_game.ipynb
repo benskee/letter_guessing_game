{
 "cells": [
  {
   "cell_type": "code",
   "execution_count": 1,
   "metadata": {},
   "outputs": [
    {
     "name": "stdout",
     "output_type": "stream",
     "text": [
      "a p p l e \n",
      "========================================\n",
      "             YOU WIN!!!\n",
      "========================================\n"
     ]
    },
    {
     "data": {
      "text/plain": [
       "'Winner!'"
      ]
     },
     "execution_count": 1,
     "metadata": {},
     "output_type": "execute_result"
    }
   ],
   "source": [
    "from IPython.display import clear_output\n",
    "import random\n",
    "word_list = ['apple','pineapple','grapes','orange','kiwi','starfruit','grapefruit','banana','watermelon','cantelope']\n",
    "\n",
    "word=random.choice(word_list)\n",
    "\n",
    "\n",
    "def word_game(word): \n",
    "    graveyard = []\n",
    "    underscores = '_ ' * len(word)\n",
    "    guesses = 0\n",
    "    while True:\n",
    "        \n",
    "        if guesses == 7:\n",
    "            print(\"You lose.\")\n",
    "            print(f\"The answer was: {word}\")\n",
    "            break\n",
    "            \n",
    "        guess = input('Guess a letter: ')\n",
    "        graveyard.append(guess)\n",
    "        guesses += 1\n",
    "        clear_output()\n",
    "        \n",
    "        \n",
    "        for index, letter in enumerate(word):\n",
    "            test_list=[]\n",
    "                        \n",
    "            \n",
    "            if guess == letter:\n",
    "                test_list.append(index*2)\n",
    "                repl_char=guess\n",
    "                temp=list(underscores)\n",
    "                guesses = guesses -1       \n",
    "            \n",
    "\n",
    "            for idx in test_list: \n",
    "                temp[idx] = repl_char \n",
    "                res = ''.join(temp)\n",
    "                underscores =str(res)\n",
    "                clear_output()\n",
    "                print(str(res))\n",
    "                if '_' not in str(res):\n",
    "                    print('=' * 40)\n",
    "                    print('             YOU WIN!!!')\n",
    "                    print('=' * 40)\n",
    "                    \n",
    "                    return 'Winner!'\n",
    "                \n",
    "        print(f\"Graveyard: {set(graveyard)}\")\n",
    "    \n",
    "    \n",
    "        \n",
    "    \n",
    "               \n",
    "word_game(word)"
   ]
  },
  {
   "cell_type": "code",
   "execution_count": null,
   "metadata": {},
   "outputs": [],
   "source": []
  },
  {
   "cell_type": "code",
   "execution_count": null,
   "metadata": {},
   "outputs": [],
   "source": []
  },
  {
   "cell_type": "code",
   "execution_count": null,
   "metadata": {},
   "outputs": [],
   "source": []
  },
  {
   "cell_type": "code",
   "execution_count": null,
   "metadata": {},
   "outputs": [],
   "source": []
  },
  {
   "cell_type": "code",
   "execution_count": null,
   "metadata": {},
   "outputs": [],
   "source": []
  },
  {
   "cell_type": "code",
   "execution_count": null,
   "metadata": {},
   "outputs": [],
   "source": []
  },
  {
   "cell_type": "code",
   "execution_count": null,
   "metadata": {},
   "outputs": [],
   "source": []
  }
 ],
 "metadata": {
  "kernelspec": {
   "display_name": "Python 3",
   "language": "python",
   "name": "python3"
  },
  "language_info": {
   "codemirror_mode": {
    "name": "ipython",
    "version": 3
   },
   "file_extension": ".py",
   "mimetype": "text/x-python",
   "name": "python",
   "nbconvert_exporter": "python",
   "pygments_lexer": "ipython3",
   "version": "3.7.6"
  }
 },
 "nbformat": 4,
 "nbformat_minor": 4
}
